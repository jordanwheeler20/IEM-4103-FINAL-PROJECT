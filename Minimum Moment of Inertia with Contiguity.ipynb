{
 "cells": [
  {
   "cell_type": "code",
   "execution_count": 1,
   "id": "0e86956a",
   "metadata": {},
   "outputs": [],
   "source": [
    "#Setting up Gerrychain to import the graph.\n",
    "from gerrychain import Graph"
   ]
  },
  {
   "cell_type": "code",
   "execution_count": 2,
   "id": "422d2283",
   "metadata": {},
   "outputs": [],
   "source": [
    "#Setting up the file path to read 'ID_county.json' from the folder 'districting-data'.\n",
    "filepath = 'districting-data/'\n",
    "filename = 'ID_county.json'\n",
    "\n",
    "#Gerrychains code for creating a graph from the file.\n",
    "G = Graph.from_json( filepath + filename )\n",
    "\n",
    "for node in G.nodes:\n",
    "    #The population of each county.\n",
    "    G.nodes[node]['TOTPOP'] = G.nodes[node]['P0010001']\n",
    "    #The longitudinal center of each county.\n",
    "    G.nodes[node]['C_X'] = G.nodes[node]['INTPTLON20']\n",
    "    #The latitudinal center of each county.\n",
    "    G.nodes[node]['C_Y'] = G.nodes[node]['INTPTLAT20']"
   ]
  },
  {
   "cell_type": "code",
   "execution_count": 3,
   "id": "4c8850c9",
   "metadata": {},
   "outputs": [],
   "source": [
    "from geopy.distance import geodesic\n",
    "\n",
    "#Creating a distance dictionary.\n",
    "dist = { (i,j) : 0 for i in G.nodes for j in G.nodes }\n",
    "for i in G.nodes:\n",
    "    for j in G.nodes:\n",
    "        loc_i = ( G.nodes[i]['C_Y'], G.nodes[i]['C_X'] )\n",
    "        loc_j = ( G.nodes[j]['C_Y'], G.nodes[j]['C_X'] )\n",
    "        dist[i,j] = geodesic(loc_i,loc_j).miles"
   ]
  },
  {
   "cell_type": "code",
   "execution_count": 27,
   "id": "c510eede",
   "metadata": {},
   "outputs": [
    {
     "name": "stdout",
     "output_type": "stream",
     "text": [
      "Using L = 919094 and U = 920012 and k = 2\n"
     ]
    }
   ],
   "source": [
    "#Imposing a 0.1% population deviation (+/-0.0005%)\n",
    "deviation = 0.001\n",
    "\n",
    "import math\n",
    "#k is the number of districts j, selected for the model.\n",
    "k = 2\n",
    "total_population = sum( G.nodes[node]['TOTPOP'] for node in G.nodes)\n",
    "\n",
    "L = math.ceil( ( 1 - deviation / 2 ) * total_population / k )\n",
    "U = math.floor( ( 1 + deviation / 2 ) * total_population / k )\n",
    "print(\"Using L =\",L,\"and U =\",U,\"and k =\",k)"
   ]
  },
  {
   "cell_type": "code",
   "execution_count": 28,
   "id": "ba523d01",
   "metadata": {},
   "outputs": [],
   "source": [
    "#Importing Gurobipy and importing GRB from Gurobipy.\n",
    "import gurobipy as gp\n",
    "from gurobipy import GRB\n",
    "\n",
    "#Creating the model. \n",
    "m = gp.Model()\n",
    "#Create a variable x[i,j] which equals one when county i is assigned to the district centered at county j.\n",
    "x = m.addVars( G.nodes, G.nodes, vtype=GRB.BINARY )"
   ]
  },
  {
   "cell_type": "code",
   "execution_count": 29,
   "id": "7f1787e0",
   "metadata": {},
   "outputs": [],
   "source": [
    "#The objective is to minimize the moment of inertia: sum (d^2 * p * x over all i and j).\n",
    "m.setObjective( gp.quicksum( dist[i,j] * dist[i,j] * G.nodes[i]['TOTPOP'] * x[i,j] for i in G.nodes for j in G.nodes ), GRB.MINIMIZE )"
   ]
  },
  {
   "cell_type": "code",
   "execution_count": 30,
   "id": "bb667bb7",
   "metadata": {},
   "outputs": [],
   "source": [
    "#Adding constraints saying that each county i is assigned to one district.\n",
    "m.addConstrs( gp.quicksum( x[i,j] for j in G.nodes ) == 1 for i in G.nodes )\n",
    "\n",
    "#Adding constraint saying there should be k district centers.\n",
    "m.addConstr( gp.quicksum( x[j,j] for j in G.nodes ) == k )\n",
    "\n",
    "#Adding constraints that say: if j roots a district, then its population is between L and U.\n",
    "m.addConstrs( gp.quicksum( G.nodes[i]['TOTPOP'] * x[i,j] for i in G.nodes ) >= L * x[j,j] for j in G.nodes )\n",
    "m.addConstrs( gp.quicksum( G.nodes[i]['TOTPOP'] * x[i,j] for i in G.nodes ) <= U * x[j,j] for j in G.nodes )\n",
    "\n",
    "#Adding coupling constraints saying that if i is assigned to j, then j is a center.\n",
    "m.addConstrs( x[i,j] <= x[j,j] for i in G.nodes for j in G.nodes )\n",
    "\n",
    "#Updating the model.\n",
    "m.update()"
   ]
  },
  {
   "cell_type": "code",
   "execution_count": 31,
   "id": "3c491231",
   "metadata": {},
   "outputs": [],
   "source": [
    "#Adding contiguity constraints.\n",
    "import networkx as nx\n",
    "DG = nx.DiGraph(G)\n",
    "\n",
    "#Adding the flow variables f[i,j,v] = flow across arc (i,j) that is sent from souce/root v.\n",
    "f = m.addVars( DG.edges, G.nodes ) \n",
    "\n",
    "#Adding constraints saying that if node i is assigned to node j, then node i must consume one unit of node j's flow.\n",
    "m.addConstrs( gp.quicksum( f[u,i,j] - f[i,u,j] for u in G.neighbors(i) ) == x[i,j] for i in G.nodes for j in G.nodes if i != j )\n",
    "\n",
    "#Adding constraints saying that node i can receive flow of type j only if node i is assigned to node j.\n",
    "M = G.number_of_nodes() - 1\n",
    "m.addConstrs( gp.quicksum( f[u,i,j] for u in G.neighbors(i) ) <= M * x[i,j] for i in G.nodes for j in G.nodes if i != j )\n",
    "\n",
    "#Adding constraints saying that node j cannot receive flow of its own type.\n",
    "m.addConstrs( gp.quicksum( f[u,j,j] for u in G.neighbors(j) ) == 0 for j in G.nodes )\n",
    "\n",
    "#Updating the model.\n",
    "m.update()"
   ]
  },
  {
   "cell_type": "code",
   "execution_count": 32,
   "id": "6dd88bc6",
   "metadata": {},
   "outputs": [
    {
     "name": "stdout",
     "output_type": "stream",
     "text": [
      "Set parameter MIPGap to value 0\n",
      "Gurobi Optimizer version 10.0.1 build v10.0.1rc0 (mac64[x86])\n",
      "\n",
      "CPU model: Intel(R) Core(TM) i5-7267U CPU @ 3.10GHz\n",
      "Thread count: 2 physical cores, 4 logical processors, using up to 4 threads\n",
      "\n",
      "Optimize a model with 5897 rows, 10912 columns and 39940 nonzeros\n",
      "Model fingerprint: 0xb7c7f705\n",
      "Variable types: 8976 continuous, 1936 integer (1936 binary)\n",
      "Coefficient statistics:\n",
      "  Matrix range     [1e+00, 9e+05]\n",
      "  Objective range  [9e+05, 7e+10]\n",
      "  Bounds range     [1e+00, 1e+00]\n",
      "  RHS range        [1e+00, 2e+00]\n",
      "Warning: Model contains large objective coefficients\n",
      "         Consider reformulating model or setting NumericFocus parameter\n",
      "         to avoid numerical issues.\n",
      "Presolve removed 174 rows and 289 columns\n",
      "Presolve time: 0.20s\n",
      "Presolved: 5723 rows, 10623 columns, 39232 nonzeros\n",
      "Variable types: 8687 continuous, 1936 integer (1936 binary)\n",
      "\n",
      "Root relaxation: objective 2.608242e+10, 1160 iterations, 0.12 seconds (0.07 work units)\n",
      "\n",
      "    Nodes    |    Current Node    |     Objective Bounds      |     Work\n",
      " Expl Unexpl |  Obj  Depth IntInf | Incumbent    BestBd   Gap | It/Node Time\n",
      "\n",
      "     0     0 2.6082e+10    0    2          - 2.6082e+10      -     -    0s\n",
      "     0     0 2.8006e+10    0    2          - 2.8006e+10      -     -    0s\n",
      "     0     0 2.8111e+10    0    2          - 2.8111e+10      -     -    1s\n",
      "     0     0 2.8146e+10    0    2          - 2.8146e+10      -     -    1s\n",
      "     0     0 2.8174e+10    0   94          - 2.8174e+10      -     -    1s\n",
      "     0     0 2.8179e+10    0   12          - 2.8179e+10      -     -    1s\n",
      "     0     0 2.8181e+10    0    4          - 2.8181e+10      -     -    1s\n",
      "     0     0 2.8205e+10    0  101          - 2.8205e+10      -     -    1s\n",
      "     0     0 2.8214e+10    0  105          - 2.8214e+10      -     -    2s\n",
      "     0     0 2.8216e+10    0   59          - 2.8216e+10      -     -    2s\n",
      "     0     0 2.8218e+10    0  106          - 2.8218e+10      -     -    2s\n",
      "     0     0 2.8218e+10    0  131          - 2.8218e+10      -     -    2s\n",
      "     0     0 2.8225e+10    0   79          - 2.8225e+10      -     -    2s\n",
      "     0     0 2.8225e+10    0   79          - 2.8225e+10      -     -    2s\n",
      "     0     0 2.8228e+10    0   16          - 2.8228e+10      -     -    2s\n",
      "     0     0 2.8231e+10    0   12          - 2.8231e+10      -     -    2s\n",
      "     0     0 2.8260e+10    0  132          - 2.8260e+10      -     -    2s\n",
      "     0     0 2.8262e+10    0  111          - 2.8262e+10      -     -    2s\n",
      "     0     0 2.8262e+10    0  112          - 2.8262e+10      -     -    2s\n",
      "     0     0 2.8277e+10    0  133          - 2.8277e+10      -     -    2s\n",
      "     0     0 2.8283e+10    0   32          - 2.8283e+10      -     -    2s\n",
      "     0     0 2.8283e+10    0   32          - 2.8283e+10      -     -    3s\n",
      "     0     0 2.8291e+10    0  130          - 2.8291e+10      -     -    3s\n",
      "     0     0 2.8293e+10    0  130          - 2.8293e+10      -     -    3s\n",
      "     0     0 2.8297e+10    0  132          - 2.8297e+10      -     -    3s\n",
      "     0     0 2.8297e+10    0  132          - 2.8297e+10      -     -    3s\n",
      "     0     0 2.8303e+10    0  102          - 2.8303e+10      -     -    3s\n",
      "     0     0 2.8303e+10    0  131          - 2.8303e+10      -     -    3s\n",
      "     0     0 2.8303e+10    0  131          - 2.8303e+10      -     -    3s\n",
      "     0     0 2.8304e+10    0  109          - 2.8304e+10      -     -    3s\n",
      "     0     0 2.8304e+10    0  108          - 2.8304e+10      -     -    3s\n",
      "     0     0 2.8305e+10    0  107          - 2.8305e+10      -     -    3s\n",
      "     0     0 2.8305e+10    0  107          - 2.8305e+10      -     -    3s\n",
      "     0     0 2.8306e+10    0  102          - 2.8306e+10      -     -    4s\n",
      "     0     0 2.8306e+10    0  130          - 2.8306e+10      -     -    4s\n",
      "     0     0 2.8308e+10    0   34          - 2.8308e+10      -     -    4s\n",
      "     0     0 2.8308e+10    0   81          - 2.8308e+10      -     -    4s\n",
      "     0     0 2.8308e+10    0  135          - 2.8308e+10      -     -    4s\n",
      "     0     0 2.8308e+10    0  132          - 2.8308e+10      -     -    4s\n",
      "     0     0 2.8308e+10    0  132          - 2.8308e+10      -     -    4s\n",
      "H    0     0                    2.842415e+10 2.8308e+10  0.41%     -    4s\n",
      "     0     0 2.8314e+10    0    1 2.8424e+10 2.8314e+10  0.39%     -    4s\n",
      "     0     0 2.8314e+10    0    3 2.8424e+10 2.8314e+10  0.39%     -    4s\n",
      "     0     0 2.8314e+10    0    4 2.8424e+10 2.8314e+10  0.39%     -    4s\n",
      "     0     0 2.8314e+10    0    5 2.8424e+10 2.8314e+10  0.39%     -    4s\n",
      "     0     0 2.8314e+10    0    9 2.8424e+10 2.8314e+10  0.39%     -    4s\n",
      "     0     0 2.8321e+10    0    8 2.8424e+10 2.8321e+10  0.36%     -    4s\n",
      "     0     0 2.8321e+10    0    8 2.8424e+10 2.8321e+10  0.36%     -    4s\n",
      "     0     0 2.8322e+10    0   10 2.8424e+10 2.8322e+10  0.36%     -    4s\n",
      "     0     0 2.8322e+10    0   10 2.8424e+10 2.8322e+10  0.36%     -    4s\n",
      "     0     0 2.8322e+10    0   11 2.8424e+10 2.8322e+10  0.36%     -    4s\n",
      "     0     0 2.8335e+10    0    6 2.8424e+10 2.8335e+10  0.32%     -    4s\n",
      "     0     0 2.8338e+10    0    7 2.8424e+10 2.8338e+10  0.30%     -    4s\n",
      "     0     0 2.8340e+10    0    8 2.8424e+10 2.8340e+10  0.29%     -    4s\n",
      "     0     0 2.8342e+10    0    8 2.8424e+10 2.8342e+10  0.29%     -    4s\n",
      "     0     0 2.8343e+10    0    8 2.8424e+10 2.8343e+10  0.29%     -    4s\n",
      "     0     0 2.8360e+10    0    9 2.8424e+10 2.8360e+10  0.23%     -    4s\n",
      "     0     0     cutoff    0      2.8424e+10 2.8424e+10  0.00%     -    4s\n",
      "\n",
      "Cutting planes:\n",
      "  Implied bound: 1\n",
      "  MIR: 8\n",
      "  StrongCG: 2\n",
      "  Flow cover: 9\n",
      "  Network: 1\n",
      "  Relax-and-lift: 1\n",
      "\n",
      "Explored 1 nodes (5185 simplex iterations) in 4.93 seconds (1.77 work units)\n",
      "Thread count was 4 (of 4 available processors)\n",
      "\n",
      "Solution count 1: 2.84242e+10 \n",
      "\n",
      "Optimal solution found (tolerance 0.00e+00)\n",
      "Best objective 2.842415095571e+10, best bound 2.842415095571e+10, gap 0.0000%\n"
     ]
    }
   ],
   "source": [
    "#Solve, making sure to set a 0.00% MIP gap tolerance.\n",
    "m.Params.MIPGap = 0.0\n",
    "\n",
    "#Optimizing the model.\n",
    "m.optimize()"
   ]
  },
  {
   "cell_type": "code",
   "execution_count": 33,
   "id": "e0e2074e",
   "metadata": {},
   "outputs": [
    {
     "name": "stdout",
     "output_type": "stream",
     "text": [
      "28424150955.711872\n",
      "District 0 has population 919165 and contains counties ['Cassia', 'Oneida', 'Payette', 'Fremont', 'Bannock', 'Twin Falls', 'Owyhee', 'Gooding', 'Caribou', 'Bear Lake', 'Lincoln', 'Camas', 'Canyon', 'Jefferson', 'Franklin', 'Madison', 'Clark', 'Jerome', 'Custer', 'Bonneville', 'Teton', 'Power', 'Blaine', 'Elmore', 'Butte', 'Minidoka', 'Bingham']\n",
      "\n",
      "District 1 has population 919941 and contains counties ['Lemhi', 'Ada', 'Clearwater', 'Boise', 'Shoshone', 'Lewis', 'Washington', 'Latah', 'Boundary', 'Kootenai', 'Gem', 'Idaho', 'Benewah', 'Nez Perce', 'Adams', 'Valley', 'Bonner']\n",
      "\n"
     ]
    }
   ],
   "source": [
    "#Print the objective value.\n",
    "print(m.objVal)\n",
    "\n",
    "#Retrieve the districts and their populations but first get the district \"centers\".\n",
    "centers = [ j for j in G.nodes if x[j,j].x > 0.5 ]\n",
    "\n",
    "districts = [ [ i for i in G.nodes if x[i,j].x > 0.5 ] for j in centers ]\n",
    "district_counties = [ [ G.nodes[i][\"NAME20\"] for i in districts[j] ] for j in range(k)]\n",
    "district_populations = [ sum(G.nodes[i][\"TOTPOP\"] for i in districts[j]) for j in range(k) ]\n",
    "\n",
    "#Print district info.\n",
    "for j in range(k):\n",
    "    print(\"District\",j,\"has population\",district_populations[j],\"and contains counties\",district_counties[j])\n",
    "    print(\"\")"
   ]
  },
  {
   "cell_type": "code",
   "execution_count": 34,
   "id": "6b87c2fd",
   "metadata": {},
   "outputs": [],
   "source": [
    "#Drawing the model as a map using Gurobi.\n",
    "import geopandas as gpd"
   ]
  },
  {
   "cell_type": "code",
   "execution_count": 35,
   "id": "d7c8c86d",
   "metadata": {},
   "outputs": [],
   "source": [
    "#Read the Idaho county shapefile from \"ID_county.shp\".\n",
    "filepath = 'districting-data/'\n",
    "filename = 'ID_county.shp'\n",
    "\n",
    "#Read geopandas dataframe from file.\n",
    "df = gpd.read_file( filepath + filename )"
   ]
  },
  {
   "cell_type": "code",
   "execution_count": 36,
   "id": "ea1c5760",
   "metadata": {},
   "outputs": [
    {
     "data": {
      "image/png": "[encoded data removed]",
      "text/plain": [
       "<Figure size 640x480 with 1 Axes>"
      ]
     },
     "metadata": {},
     "output_type": "display_data"
    }
   ],
   "source": [
    "#Assigning each county i to district j.\n",
    "assignment = [ -1 for i in G.nodes ]\n",
    "\n",
    "labeling = { i : -1 for i in G.nodes }\n",
    "for j in range(k):\n",
    "    district = districts[j]\n",
    "    for i in district:\n",
    "        labeling[i] = j\n",
    "\n",
    "#Adding the assignments to a column of the dataframe and mapping it.\n",
    "node_with_this_geoid = { G.nodes[i]['GEOID20'] : i for i in G.nodes }\n",
    "\n",
    "#Pick a position u in the dataframe.\n",
    "for u in range(G.number_of_nodes()):\n",
    "    \n",
    "    geoid = df['GEOID20'][u]\n",
    "    \n",
    "    #Determining what node in the geoid.\n",
    "    i = node_with_this_geoid[geoid]\n",
    "    \n",
    "    #The position u in the dataframe should be given the same district # that county i has in 'labeling'.\n",
    "    assignment[u] = labeling[i]\n",
    "    \n",
    "#Adding the assignments to a column of our dataframe and then mapping it.\n",
    "df['assignment'] = assignment\n",
    "\n",
    "my_fig = df.plot(column='assignment').get_figure()"
   ]
  },
  {
   "cell_type": "code",
   "execution_count": null,
   "id": "8be7138e",
   "metadata": {},
   "outputs": [],
   "source": []
  }
 ],
 "metadata": {
  "kernelspec": {
   "display_name": "Python 3 (ipykernel)",
   "language": "python",
   "name": "python3"
  },
  "language_info": {
   "codemirror_mode": {
    "name": "ipython",
    "version": 3
   },
   "file_extension": ".py",
   "mimetype": "text/x-python",
   "name": "python",
   "nbconvert_exporter": "python",
   "pygments_lexer": "ipython3",
   "version": "3.9.13"
  }
 },
 "nbformat": 4,
 "nbformat_minor": 5
}
