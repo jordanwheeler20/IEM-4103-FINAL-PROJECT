{
 "cells": [
  {
   "cell_type": "code",
   "execution_count": 8,
   "id": "2e070bfa",
   "metadata": {},
   "outputs": [],
   "source": [
    "#Setting up Gerrychain to import the graph.\n",
    "from gerrychain import Graph"
   ]
  },
  {
   "cell_type": "code",
   "execution_count": 10,
   "id": "2295b998",
   "metadata": {},
   "outputs": [],
   "source": [
    "#Setting up the file path to read 'ID_county.json' from the folder 'districting-data'.\n",
    "filepath = 'districting-data/'\n",
    "filename = 'ID_county.json'\n",
    "\n",
    "#Gerrychains code for creating a graph from the file.\n",
    "G = Graph.from_json( filepath + filename )"
   ]
  },
  {
   "cell_type": "code",
   "execution_count": 11,
   "id": "342d53ab",
   "metadata": {},
   "outputs": [],
   "source": [
    "for node in G.nodes:\n",
    "     #The population of each county.\n",
    "    G.nodes[node]['TOTPOP'] = G.nodes[node]['P0010001']"
   ]
  },
  {
   "cell_type": "code",
   "execution_count": 12,
   "id": "ea64381d",
   "metadata": {},
   "outputs": [
    {
     "name": "stdout",
     "output_type": "stream",
     "text": [
      "Using L = 914956 and U = 924150 and k = 2\n"
     ]
    }
   ],
   "source": [
    "#Imposing a 1.0% population deviation (+/-0.5%)\n",
    "deviation = 0.01\n",
    "\n",
    "import math\n",
    "#k is the number of districts j, selected for the model.\n",
    "k = 2\n",
    "total_population = sum( G.nodes[node]['TOTPOP'] for node in G.nodes )\n",
    "\n",
    "L = math.ceil( ( 1 - deviation / 2 ) * total_population / k )\n",
    "U = math.floor( ( 1 + deviation / 2 ) * total_population / k )\n",
    "print(\"Using L =\",L,\"and U =\",U,\"and k =\",k)"
   ]
  },
  {
   "cell_type": "code",
   "execution_count": 13,
   "id": "44c5539e",
   "metadata": {},
   "outputs": [
    {
     "name": "stdout",
     "output_type": "stream",
     "text": [
      "Set parameter Username\n",
      "Academic license - for non-commercial use only - expires 2024-01-12\n"
     ]
    }
   ],
   "source": [
    "#Importing Gurobipy and importing GRB from Gurobipy.\n",
    "import gurobipy as gp\n",
    "from gurobipy import GRB\n",
    "\n",
    "#Creating the model.  \n",
    "m = gp.Model()\n",
    "\n",
    "#Creating the variables x[i,j] equals one when county i is assigned to district j,\n",
    "x = m.addVars(G.nodes, k, vtype=GRB.BINARY)\n",
    "#and y[u,v] equals one when edge {u,v} is cut.\n",
    "y = m.addVars(G.edges, vtype=GRB.BINARY)"
   ]
  },
  {
   "cell_type": "code",
   "execution_count": 14,
   "id": "6e11e16a",
   "metadata": {},
   "outputs": [],
   "source": [
    "#The objective is to minimize cut edges.\n",
    "m.setObjective( gp.quicksum( y[u,v] for u,v in G.edges ), GRB.MINIMIZE )"
   ]
  },
  {
   "cell_type": "code",
   "execution_count": 15,
   "id": "738f6384",
   "metadata": {},
   "outputs": [],
   "source": [
    "#Adding constraints saying that each county i is assigned to one district.\n",
    "m.addConstrs( gp.quicksum(x[i,j] for j in range(k)) == 1 for i in G.nodes)\n",
    "\n",
    "#Adding constraints saying that each district has population at least L and at most U.\n",
    "m.addConstrs( gp.quicksum( G.nodes[i]['TOTPOP'] * x[i,j] for i in G.nodes) >= L for j in range(k) )\n",
    "m.addConstrs( gp.quicksum( G.nodes[i]['TOTPOP'] * x[i,j] for i in G.nodes) <= U for j in range(k) )\n",
    "\n",
    "#Adding constraints saying that edge {u,v} is cut if u is assigned to district j but v is not.\n",
    "m.addConstrs( x[u,j] - x[v,j] <= y[u,v] for u,v in G.edges for j in range(k))\n",
    "\n",
    "#Updating the model.\n",
    "m.update()"
   ]
  },
  {
   "cell_type": "code",
   "execution_count": 16,
   "id": "9e05284a",
   "metadata": {},
   "outputs": [],
   "source": [
    "#Adding root variables: r[i,j] equals 1 if node i is the \"root\" of district j.\n",
    "r = m.addVars( G.nodes, k, vtype=GRB.BINARY )\n",
    "\n",
    "#Adding contiguity constraints.\n",
    "import networkx as nx\n",
    "DG = nx.DiGraph(G)\n",
    "\n",
    "f = m.addVars( DG.edges )"
   ]
  },
  {
   "cell_type": "code",
   "execution_count": 17,
   "id": "a319341b",
   "metadata": {},
   "outputs": [],
   "source": [
    "#The big-M proposed by Hojny et al.\n",
    "M = G.number_of_nodes() - k + 1\n",
    "\n",
    "#Each district j should have one root.\n",
    "m.addConstrs( gp.quicksum( r[i,j] for i in G.nodes ) == 1 for j in range(k) )\n",
    "\n",
    "#If node i is not assigned to district j, then it cannot be its root.\n",
    "m.addConstrs( r[i,j] <= x[i,j] for i in G.nodes for j in range(k) ) \n",
    "#If not a root, consume some flow.\n",
    "m.addConstrs( gp.quicksum( f[j,i] - f[i,j] for j in G.neighbors(i) ) \n",
    "             #If a root, only send out (so much) flow.\n",
    "             >= 1 - M * gp.quicksum( r[i,j] for j in range(k) ) for i in G.nodes )\n",
    "\n",
    "#Do not send flow across cut edges.\n",
    "m.addConstrs( f[i,j] + f[j,i] <= M * ( 1 - y[i,j] ) for i,j in G.edges )\n",
    "\n",
    "#Updating the model.\n",
    "m.update()"
   ]
  },
  {
   "cell_type": "code",
   "execution_count": 18,
   "id": "84e4bc42",
   "metadata": {},
   "outputs": [
    {
     "name": "stdout",
     "output_type": "stream",
     "text": [
      "Gurobi Optimizer version 10.0.1 build v10.0.1rc0 (mac64[x86])\n",
      "\n",
      "CPU model: Intel(R) Core(TM) i5-7267U CPU @ 3.10GHz\n",
      "Thread count: 2 physical cores, 4 logical processors, using up to 4 threads\n",
      "\n",
      "Optimize a model with 488 rows, 482 columns and 1942 nonzeros\n",
      "Model fingerprint: 0x7b03cf5a\n",
      "Variable types: 204 continuous, 278 integer (278 binary)\n",
      "Coefficient statistics:\n",
      "  Matrix range     [1e+00, 5e+05]\n",
      "  Objective range  [1e+00, 1e+00]\n",
      "  Bounds range     [1e+00, 1e+00]\n",
      "  RHS range        [1e+00, 9e+05]\n",
      "Presolve removed 46 rows and 44 columns\n",
      "Presolve time: 0.01s\n",
      "Presolved: 442 rows, 438 columns, 1766 nonzeros\n",
      "Variable types: 204 continuous, 234 integer (234 binary)\n",
      "\n",
      "Root relaxation: objective 0.000000e+00, 113 iterations, 0.00 seconds (0.00 work units)\n",
      "\n",
      "    Nodes    |    Current Node    |     Objective Bounds      |     Work\n",
      " Expl Unexpl |  Obj  Depth IntInf | Incumbent    BestBd   Gap | It/Node Time\n",
      "\n",
      "     0     0    0.00000    0   48          -    0.00000      -     -    0s\n",
      "     0     0    0.00000    0   50          -    0.00000      -     -    0s\n",
      "     0     0    0.69491    0   50          -    0.69491      -     -    0s\n",
      "     0     0    0.69491    0   50          -    0.69491      -     -    0s\n",
      "     0     0    0.69491    0   51          -    0.69491      -     -    0s\n",
      "     0     0    0.69491    0   51          -    0.69491      -     -    0s\n",
      "     0     0    0.69491    0   50          -    0.69491      -     -    0s\n",
      "     0     0    0.69491    0   50          -    0.69491      -     -    0s\n",
      "     0     0    0.69491    0   50          -    0.69491      -     -    0s\n",
      "     0     0    0.69491    0   50          -    0.69491      -     -    0s\n",
      "     0     2    1.40147    0   50          -    1.40147      -     -    0s\n",
      "*  238   120               9      12.0000000    4.85667  59.5%  22.7    0s\n",
      "*  297    99              11      11.0000000    7.52628  31.6%  23.3    0s\n",
      "\n",
      "Cutting planes:\n",
      "  Gomory: 1\n",
      "  MIR: 9\n",
      "  Zero half: 2\n",
      "\n",
      "Explored 413 nodes (9657 simplex iterations) in 0.88 seconds (0.25 work units)\n",
      "Thread count was 4 (of 4 available processors)\n",
      "\n",
      "Solution count 2: 11 12 \n",
      "\n",
      "Optimal solution found (tolerance 1.00e-04)\n",
      "Best objective 1.100000000000e+01, best bound 1.100000000000e+01, gap 0.0000%\n"
     ]
    }
   ],
   "source": [
    "#Optimizing the model.\n",
    "m.optimize()"
   ]
  },
  {
   "cell_type": "code",
   "execution_count": 19,
   "id": "274004cc",
   "metadata": {
    "scrolled": true
   },
   "outputs": [
    {
     "name": "stdout",
     "output_type": "stream",
     "text": [
      "The number of cut edges is 11.0\n",
      "District 0 has population 921109 and contains counties ['Lemhi', 'Cassia', 'Oneida', 'Boise', 'Fremont', 'Bannock', 'Twin Falls', 'Owyhee', 'Gooding', 'Caribou', 'Bear Lake', 'Lincoln', 'Camas', 'Canyon', 'Jefferson', 'Franklin', 'Madison', 'Clark', 'Jerome', 'Custer', 'Bonneville', 'Teton', 'Power', 'Blaine', 'Elmore', 'Butte', 'Valley', 'Minidoka', 'Bingham']\n",
      "\n",
      "District 1 has population 917997 and contains counties ['Ada', 'Clearwater', 'Payette', 'Shoshone', 'Lewis', 'Washington', 'Latah', 'Boundary', 'Kootenai', 'Gem', 'Idaho', 'Benewah', 'Nez Perce', 'Adams', 'Bonner']\n",
      "\n"
     ]
    }
   ],
   "source": [
    "print(\"The number of cut edges is\",m.objval)\n",
    "\n",
    "#Retrieve the districts and their populations.\n",
    "districts = [ [i for i in G.nodes if x[i,j].x > 0.5] for j in range(k)]\n",
    "district_counties = [ [ G.nodes[i][\"NAME20\"] for i in districts[j] ] for j in range(k)]\n",
    "district_populations = [ sum(G.nodes[i][\"TOTPOP\"] for i in districts[j]) for j in range(k) ]\n",
    "\n",
    "#Printing district info.\n",
    "for j in range(k):\n",
    "    print(\"District\",j,\"has population\",district_populations[j],\"and contains counties\",district_counties[j])\n",
    "    print(\"\")"
   ]
  },
  {
   "cell_type": "code",
   "execution_count": 20,
   "id": "63922893",
   "metadata": {},
   "outputs": [],
   "source": [
    "#Drawing the model as a map using Gurobi.\n",
    "import geopandas as gpd"
   ]
  },
  {
   "cell_type": "code",
   "execution_count": 25,
   "id": "a06d1bd6",
   "metadata": {},
   "outputs": [],
   "source": [
    "#Read the Idaho county shapefile from \"ID_county.shp\".\n",
    "filepath = 'districting-data/'\n",
    "filename = 'ID_county.shp'\n",
    "\n",
    "#Read geopandas dataframe from file.\n",
    "df = gpd.read_file( filepath + filename )"
   ]
  },
  {
   "cell_type": "code",
   "execution_count": 26,
   "id": "e5dda5e9",
   "metadata": {},
   "outputs": [
    {
     "data": {
      "image/png": "[encoded data removed]",
      "text/plain": [
       "<Figure size 640x480 with 1 Axes>"
      ]
     },
     "metadata": {},
     "output_type": "display_data"
    }
   ],
   "source": [
    "#Assigning each county i to district j.\n",
    "assignment = [ -1 for i in G.nodes ]\n",
    "\n",
    "labeling = { i : -1 for i in G.nodes }\n",
    "for j in range(k):\n",
    "    district = districts[j]\n",
    "    for i in district:\n",
    "        labeling[i] = j\n",
    "\n",
    "#Adding the assignments to a column of the dataframe and mapping it.\n",
    "node_with_this_geoid = { G.nodes[i]['GEOID20'] : i for i in G.nodes }\n",
    "\n",
    "#Pick a position u in the dataframe.\n",
    "for u in range(G.number_of_nodes()):\n",
    "    \n",
    "    geoid = df['GEOID20'][u]\n",
    "    \n",
    "    #Determining what node in the geoid.\n",
    "    i = node_with_this_geoid[geoid]\n",
    "    \n",
    "    #The position u in the dataframe should be given the same district # that county i has in 'labeling'.\n",
    "    assignment[u] = labeling[i]\n",
    "    \n",
    "#Adding the assignments to a column of our dataframe and then mapping it.\n",
    "df['assignment'] = assignment\n",
    "\n",
    "my_fig = df.plot(column='assignment').get_figure()"
   ]
  },
  {
   "cell_type": "code",
   "execution_count": null,
   "id": "7ae73a0b",
   "metadata": {},
   "outputs": [],
   "source": []
  }
 ],
 "metadata": {
  "kernelspec": {
   "display_name": "Python 3 (ipykernel)",
   "language": "python",
   "name": "python3"
  },
  "language_info": {
   "codemirror_mode": {
    "name": "ipython",
    "version": 3
   },
   "file_extension": ".py",
   "mimetype": "text/x-python",
   "name": "python",
   "nbconvert_exporter": "python",
   "pygments_lexer": "ipython3",
   "version": "3.9.13"
  }
 },
 "nbformat": 4,
 "nbformat_minor": 5
}
